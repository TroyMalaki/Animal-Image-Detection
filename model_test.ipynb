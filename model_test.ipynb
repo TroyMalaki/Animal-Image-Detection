{
 "cells": [
  {
   "cell_type": "code",
   "execution_count": 6,
   "id": "bfb1b930",
   "metadata": {},
   "outputs": [],
   "source": [
    "import cv2\n",
    "import tensorflow as tf"
   ]
  },
  {
   "cell_type": "code",
   "execution_count": 7,
   "id": "b7f00fc2",
   "metadata": {},
   "outputs": [],
   "source": [
    "CATEGORIES = ['butterfly', 'cat', 'chicken', 'cow', 'dog', 'elephant', 'horse', 'sheep', 'spider', 'squirrel']"
   ]
  },
  {
   "cell_type": "code",
   "execution_count": 8,
   "id": "3a8480ad",
   "metadata": {},
   "outputs": [],
   "source": [
    "def prepare(filepath):\n",
    "    IMG_SIZE = 224\n",
    "    img_array = cv2.imread(filepath)\n",
    "    new_array = cv2.resize(img_array, (IMG_SIZE, IMG_SIZE))\n",
    "    return new_array.reshape(-1, IMG_SIZE, IMG_SIZE, 3)"
   ]
  },
  {
   "cell_type": "code",
   "execution_count": 9,
   "id": "eb0cf37e",
   "metadata": {},
   "outputs": [],
   "source": [
    "model = tf.keras.models.load_model(\"animal10-CNN.model\")"
   ]
  },
  {
   "cell_type": "code",
   "execution_count": 16,
   "id": "989c0409",
   "metadata": {},
   "outputs": [
    {
     "name": "stdout",
     "output_type": "stream",
     "text": [
      "1/1 [==============================] - 0s 20ms/step\n",
      "[[1. 0. 0. 0. 0. 0. 0. 0. 0. 0.]]\n",
      "cat\n"
     ]
    }
   ],
   "source": [
    "prediction = model.predict([prepare('dog.jpg')])\n",
    "print(prediction)  # will be a list in a list.\n",
    "print(CATEGORIES[int(prediction[0][0])])"
   ]
  },
  {
   "cell_type": "code",
   "execution_count": 17,
   "id": "4a5eef9e",
   "metadata": {},
   "outputs": [
    {
     "name": "stdout",
     "output_type": "stream",
     "text": [
      "1/1 [==============================] - 0s 19ms/step\n",
      "[[1. 0. 0. 0. 0. 0. 0. 0. 0. 0.]]\n",
      "cat\n"
     ]
    }
   ],
   "source": [
    "prediction = model.predict([prepare('spider.jpg')])\n",
    "print(prediction)  # will be a list in a list.\n",
    "print(CATEGORIES[int(prediction[0][0])])"
   ]
  },
  {
   "cell_type": "code",
   "execution_count": 18,
   "id": "e552735a",
   "metadata": {},
   "outputs": [
    {
     "name": "stdout",
     "output_type": "stream",
     "text": [
      "1/1 [==============================] - 0s 19ms/step\n",
      "[[1. 0. 0. 0. 0. 0. 0. 0. 0. 0.]]\n",
      "cat\n"
     ]
    }
   ],
   "source": [
    "prediction = model.predict([prepare('horse.jpg')])\n",
    "print(prediction)  # will be a list in a list.\n",
    "print(CATEGORIES[int(prediction[0][0])])"
   ]
  },
  {
   "cell_type": "code",
   "execution_count": 21,
   "id": "cee7c1bd",
   "metadata": {},
   "outputs": [
    {
     "name": "stdout",
     "output_type": "stream",
     "text": [
      "1/1 [==============================] - 0s 19ms/step\n",
      "[[0.         0.         0.         0.99603635 0.         0.00396368\n",
      "  0.         0.         0.         0.        ]]\n",
      "butterfly\n"
     ]
    }
   ],
   "source": [
    "prediction = model.predict([prepare('elephant.jpg')])\n",
    "print(prediction)  # will be a list in a list.\n",
    "print(CATEGORIES[int(prediction[0][0])])"
   ]
  },
  {
   "cell_type": "code",
   "execution_count": 22,
   "id": "7d3b10e5",
   "metadata": {},
   "outputs": [
    {
     "name": "stdout",
     "output_type": "stream",
     "text": [
      "1/1 [==============================] - 0s 19ms/step\n",
      "[[1. 0. 0. 0. 0. 0. 0. 0. 0. 0.]]\n",
      "cat\n"
     ]
    }
   ],
   "source": [
    "prediction = model.predict([prepare('squirrel.jpg')])\n",
    "print(prediction)  # will be a list in a list.\n",
    "print(CATEGORIES[int(prediction[0][0])])"
   ]
  },
  {
   "cell_type": "code",
   "execution_count": 23,
   "id": "823f116a",
   "metadata": {},
   "outputs": [
    {
     "name": "stdout",
     "output_type": "stream",
     "text": [
      "1/1 [==============================] - 0s 19ms/step\n",
      "[[0. 0. 1. 0. 0. 0. 0. 0. 0. 0.]]\n",
      "butterfly\n"
     ]
    }
   ],
   "source": [
    "prediction = model.predict([prepare('chicken.jpg')])\n",
    "print(prediction)  # will be a list in a list.\n",
    "print(CATEGORIES[int(prediction[0][0])])"
   ]
  },
  {
   "cell_type": "code",
   "execution_count": null,
   "id": "c122d52e",
   "metadata": {},
   "outputs": [],
   "source": []
  }
 ],
 "metadata": {
  "kernelspec": {
   "display_name": "Python 3 (ipykernel)",
   "language": "python",
   "name": "python3"
  },
  "language_info": {
   "codemirror_mode": {
    "name": "ipython",
    "version": 3
   },
   "file_extension": ".py",
   "mimetype": "text/x-python",
   "name": "python",
   "nbconvert_exporter": "python",
   "pygments_lexer": "ipython3",
   "version": "3.10.9"
  }
 },
 "nbformat": 4,
 "nbformat_minor": 5
}
