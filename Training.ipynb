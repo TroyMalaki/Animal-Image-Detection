{
 "cells": [
  {
   "cell_type": "code",
   "execution_count": 2,
   "id": "bca204d2",
   "metadata": {},
   "outputs": [],
   "source": [
    "import time\n",
    "import pickle\n",
    "# to use keras, in anaconda prompt 'pip install tensorflow'\n",
    "from keras.models import Sequential\n",
    "from keras.layers import Conv2D, MaxPooling2D, Flatten, Dense"
   ]
  },
  {
   "cell_type": "markdown",
   "id": "51fa9dc4",
   "metadata": {},
   "source": [
    "# Open the saved pickle file, X and Y"
   ]
  },
  {
   "cell_type": "code",
   "execution_count": 3,
   "id": "eb99d81a",
   "metadata": {},
   "outputs": [],
   "source": [
    "X = pickle.load(open('X.pkl', 'rb'))\n",
    "Y = pickle.load(open('Y.pkl', 'rb'))"
   ]
  },
  {
   "cell_type": "code",
   "execution_count": 4,
   "id": "8dc9d62a",
   "metadata": {},
   "outputs": [
    {
     "data": {
      "text/plain": [
       "(26179, 224, 224, 3)"
      ]
     },
     "execution_count": 4,
     "metadata": {},
     "output_type": "execute_result"
    }
   ],
   "source": [
    "X.shape"
   ]
  },
  {
   "cell_type": "code",
   "execution_count": 5,
   "id": "522d4996",
   "metadata": {},
   "outputs": [],
   "source": [
    "X = X.astype('float32')\n",
    "X /= 255"
   ]
  },
  {
   "cell_type": "markdown",
   "id": "b5b04a52",
   "metadata": {},
   "source": [
    "# Design our model"
   ]
  },
  {
   "cell_type": "code",
   "execution_count": 22,
   "id": "7f7f6419",
   "metadata": {},
   "outputs": [],
   "source": [
    "model = Sequential()\n",
    "\n",
    "# Create convulation layers\n",
    "# activation 'relu' transforms the summed weight from the node into the activation \n",
    "model.add(Conv2D(64, (3,3), activation = 'relu'))\n",
    "# Max Pooling to downscale image to important features\n",
    "model.add(MaxPooling2D((2,2)))\n",
    "\n",
    "model.add(Conv2D(64, (3,3), activation = 'relu'))\n",
    "model.add(MaxPooling2D((2,2)))\n",
    "\n",
    "model.add(Conv2D(64, (3,3), activation = 'relu'))\n",
    "model.add(MaxPooling2D((2,2)))\n",
    "\n",
    "model.add(Conv2D(64, (3,3), activation = 'relu'))\n",
    "model.add(MaxPooling2D((2,2)))\n",
    "\n",
    "model.add(Conv2D(64, (3,3), activation = 'relu'))\n",
    "model.add(MaxPooling2D((2,2)))\n",
    "\n",
    "model.add(Conv2D(64, (3,3), activation = 'relu'))\n",
    "model.add(MaxPooling2D((2,2)))\n",
    "\n",
    "# Flatten the layers\n",
    "model.add(Flatten())\n",
    "# Pass into 128 neurons \n",
    "model.add(Dense(128, input_shape = X.shape[1:], activation = 'relu'))\n",
    "model.add(Dense(128, activation = 'relu'))\n",
    "model.add(Dense(128, activation = 'relu'))\n",
    "\n",
    "# Add an output layer\n",
    "# activation 'softmax' normalizes the neural network output to 1 so the components can be read as a probability\n",
    "model.add(Dense(10, activation = 'softmax'))\n"
   ]
  },
  {
   "cell_type": "markdown",
   "id": "9a1230d6",
   "metadata": {},
   "source": [
    "# Add loss functions and optimizers. Decides how our values and weights are updated"
   ]
  },
  {
   "cell_type": "code",
   "execution_count": 23,
   "id": "de974539",
   "metadata": {},
   "outputs": [],
   "source": [
    "model.compile(optimizer='adam', loss='sparse_categorical_crossentropy', metrics=['accuracy'])"
   ]
  },
  {
   "cell_type": "code",
   "execution_count": 24,
   "id": "8101b30b",
   "metadata": {
    "scrolled": true
   },
   "outputs": [
    {
     "name": "stdout",
     "output_type": "stream",
     "text": [
      "Epoch 1/10\n",
      "369/369 [==============================] - 844s 2s/step - loss: 2.2002 - accuracy: 0.1915 - val_loss: 2.0789 - val_accuracy: 0.2636\n",
      "Epoch 2/10\n",
      "369/369 [==============================] - 835s 2s/step - loss: 1.8393 - accuracy: 0.3598 - val_loss: 1.7616 - val_accuracy: 0.3946\n",
      "Epoch 3/10\n",
      "369/369 [==============================] - 834s 2s/step - loss: 1.5203 - accuracy: 0.4742 - val_loss: 1.5036 - val_accuracy: 0.4778\n",
      "Epoch 4/10\n",
      "369/369 [==============================] - 835s 2s/step - loss: 1.2970 - accuracy: 0.5567 - val_loss: 1.3287 - val_accuracy: 0.5531\n",
      "Epoch 5/10\n",
      "369/369 [==============================] - 826s 2s/step - loss: 1.1520 - accuracy: 0.6089 - val_loss: 1.2396 - val_accuracy: 0.5848\n",
      "Epoch 6/10\n",
      "369/369 [==============================] - 830s 2s/step - loss: 1.0410 - accuracy: 0.6475 - val_loss: 1.1315 - val_accuracy: 0.6165\n",
      "Epoch 7/10\n",
      "369/369 [==============================] - 839s 2s/step - loss: 0.9505 - accuracy: 0.6794 - val_loss: 1.0909 - val_accuracy: 0.6406\n",
      "Epoch 8/10\n",
      "369/369 [==============================] - 866s 2s/step - loss: 0.8659 - accuracy: 0.7045 - val_loss: 1.1073 - val_accuracy: 0.6360\n",
      "Epoch 9/10\n",
      "369/369 [==============================] - 856s 2s/step - loss: 0.7969 - accuracy: 0.7320 - val_loss: 1.0126 - val_accuracy: 0.6639\n",
      "Epoch 10/10\n",
      "369/369 [==============================] - 832s 2s/step - loss: 0.7329 - accuracy: 0.7529 - val_loss: 1.0508 - val_accuracy: 0.6616\n"
     ]
    },
    {
     "data": {
      "text/plain": [
       "<keras.callbacks.History at 0x17aad609a20>"
      ]
     },
     "execution_count": 24,
     "metadata": {},
     "output_type": "execute_result"
    }
   ],
   "source": [
    "model.fit(X, Y, epochs = 10, validation_split = 0.1, batch_size = 64)"
   ]
  },
  {
   "cell_type": "code",
   "execution_count": 26,
   "id": "61033fae",
   "metadata": {},
   "outputs": [
    {
     "name": "stderr",
     "output_type": "stream",
     "text": [
      "WARNING:absl:Found untraced functions such as _jit_compiled_convolution_op, _jit_compiled_convolution_op, _jit_compiled_convolution_op, _jit_compiled_convolution_op, _jit_compiled_convolution_op while saving (showing 5 of 7). These functions will not be directly callable after loading.\n"
     ]
    },
    {
     "name": "stdout",
     "output_type": "stream",
     "text": [
      "INFO:tensorflow:Assets written to: animal10-CNN.model\\assets\n"
     ]
    },
    {
     "name": "stderr",
     "output_type": "stream",
     "text": [
      "INFO:tensorflow:Assets written to: animal10-CNN.model\\assets\n"
     ]
    }
   ],
   "source": [
    "model.save(\"animal10-CNN.model\")"
   ]
  },
  {
   "cell_type": "code",
   "execution_count": null,
   "id": "a67e5689",
   "metadata": {},
   "outputs": [],
   "source": []
  }
 ],
 "metadata": {
  "kernelspec": {
   "display_name": "Python 3 (ipykernel)",
   "language": "python",
   "name": "python3"
  },
  "language_info": {
   "codemirror_mode": {
    "name": "ipython",
    "version": 3
   },
   "file_extension": ".py",
   "mimetype": "text/x-python",
   "name": "python",
   "nbconvert_exporter": "python",
   "pygments_lexer": "ipython3",
   "version": "3.10.9"
  }
 },
 "nbformat": 4,
 "nbformat_minor": 5
}
