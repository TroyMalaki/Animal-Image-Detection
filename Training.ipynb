{
 "cells": [
  {
   "cell_type": "code",
   "execution_count": 9,
   "id": "bca204d2",
   "metadata": {},
   "outputs": [],
   "source": [
    "import pickle\n",
    "# to use keras, in anaconda prompt 'pip install tensorflow'\n",
    "from keras.models import Sequential\n",
    "from keras.layers import Conv2D, MaxPooling2D, Flatten, Dense\n",
    "from keras.preprocessing.image import ImageDataGenerator"
   ]
  },
  {
   "cell_type": "markdown",
   "id": "51fa9dc4",
   "metadata": {},
   "source": [
    "# Open the saved pickle file, X and Y"
   ]
  },
  {
   "cell_type": "code",
   "execution_count": 2,
   "id": "eb99d81a",
   "metadata": {},
   "outputs": [],
   "source": [
    "X = pickle.load(open('X.pkl', 'rb'))\n",
    "Y = pickle.load(open('Y.pkl', 'rb'))"
   ]
  },
  {
   "cell_type": "code",
   "execution_count": 7,
   "id": "8dc9d62a",
   "metadata": {},
   "outputs": [
    {
     "data": {
      "text/plain": [
       "(26179, 224, 224, 3)"
      ]
     },
     "execution_count": 7,
     "metadata": {},
     "output_type": "execute_result"
    }
   ],
   "source": [
    "X.shape"
   ]
  },
  {
   "cell_type": "code",
   "execution_count": 3,
   "id": "522d4996",
   "metadata": {},
   "outputs": [],
   "source": [
    "X = X.astype('float32')\n",
    "X /= 255"
   ]
  },
  {
   "cell_type": "markdown",
   "id": "b5b04a52",
   "metadata": {},
   "source": [
    "# Design our model"
   ]
  },
  {
   "cell_type": "code",
   "execution_count": 4,
   "id": "7f7f6419",
   "metadata": {},
   "outputs": [],
   "source": [
    "model = Sequential()\n",
    "# Create first convulation layer \n",
    "model.add(Conv2D(64, (3,3), activation = 'relu'))\n",
    "# Max Pooling to downscale image to important features\n",
    "model.add(MaxPooling2D((2,2)))\n",
    "\n",
    "# Create second convulation layer \n",
    "# activation 'relu' transforms the summed weight from the node into the activation \n",
    "model.add(Conv2D(64, (3,3), activation = 'relu'))\n",
    "model.add(MaxPooling2D((2,2)))\n",
    "\n",
    "# Flatten the layers\n",
    "model.add(Flatten())\n",
    "# Pass into 128 neurons \n",
    "model.add(Dense(128, input_shape = X.shape[1:], activation = 'relu'))\n",
    "\n",
    "# Add an output layer\n",
    "# activation 'softmax' normalizes the neural network output to 1 so the components can be read as a probability\n",
    "model.add(Dense(10, activation = 'softmax'))\n"
   ]
  },
  {
   "cell_type": "markdown",
   "id": "9a1230d6",
   "metadata": {},
   "source": [
    "# Add loss functions and optimizers. Decides how our values and weights are updated"
   ]
  },
  {
   "cell_type": "code",
   "execution_count": 5,
   "id": "de974539",
   "metadata": {},
   "outputs": [],
   "source": [
    "model.compile(optimizer='adam', loss='sparse_categorical_crossentropy', metrics=['accuracy'])"
   ]
  },
  {
   "cell_type": "code",
   "execution_count": null,
   "id": "8101b30b",
   "metadata": {
    "scrolled": true
   },
   "outputs": [
    {
     "name": "stderr",
     "output_type": "stream",
     "text": [
      "C:\\Users\\dtmal\\AppData\\Local\\Temp\\ipykernel_9496\\1171220778.py:8: UserWarning: `Model.fit_generator` is deprecated and will be removed in a future version. Please use `Model.fit`, which supports generators.\n",
      "  model.fit_generator(datagen.flow(X, Y, batch_size=32), epochs=50)\n"
     ]
    },
    {
     "name": "stdout",
     "output_type": "stream",
     "text": [
      "Epoch 1/50\n",
      "819/819 [==============================] - 2192s 3s/step - loss: 1.8307 - accuracy: 0.3617\n",
      "Epoch 2/50\n",
      "819/819 [==============================] - 2491s 3s/step - loss: 1.5216 - accuracy: 0.4761\n",
      "Epoch 3/50\n",
      "802/819 [============================>.] - ETA: 14:20 - loss: 1.4077 - accuracy: 0.5187"
     ]
    }
   ],
   "source": [
    "datagen = ImageDataGenerator(\n",
    "        rotation_range=30, \n",
    "        width_shift_range=0.1,\n",
    "        height_shift_range=0.1, \n",
    "        horizontal_flip=True\n",
    ")\n",
    "\n",
    "model.fit_generator(datagen.flow(X, Y, batch_size=32), epochs=50)"
   ]
  },
  {
   "cell_type": "code",
   "execution_count": null,
   "id": "f339f837",
   "metadata": {},
   "outputs": [],
   "source": []
  },
  {
   "cell_type": "code",
   "execution_count": null,
   "id": "d8aa6ad0",
   "metadata": {},
   "outputs": [],
   "source": []
  }
 ],
 "metadata": {
  "kernelspec": {
   "display_name": "Python 3 (ipykernel)",
   "language": "python",
   "name": "python3"
  },
  "language_info": {
   "codemirror_mode": {
    "name": "ipython",
    "version": 3
   },
   "file_extension": ".py",
   "mimetype": "text/x-python",
   "name": "python",
   "nbconvert_exporter": "python",
   "pygments_lexer": "ipython3",
   "version": "3.10.9"
  }
 },
 "nbformat": 4,
 "nbformat_minor": 5
}
